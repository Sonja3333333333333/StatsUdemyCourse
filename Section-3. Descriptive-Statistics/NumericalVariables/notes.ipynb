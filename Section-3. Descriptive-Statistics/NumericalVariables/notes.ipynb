{
 "cells": [
  {
   "cell_type": "markdown",
   "id": "d10c0c40",
   "metadata": {},
   "source": [
    "## Numerical Variables"
   ]
  },
  {
   "cell_type": "markdown",
   "id": "50db5d97",
   "metadata": {},
   "source": [
    "Arranging numerical data into a frequency distribution table, the same as we did with a categorical data is impractical for analysis. Especially if we have a lot of numbers and all of them are different.\n",
    "\n",
    "Hence, when dealing with numerical data it makes much more sense to group it into intervals.\n",
    "\n",
    "Generally, statistions prefer to group data into 5 to 20 intervals. But it depends on the number of data... ."
   ]
  },
  {
   "cell_type": "code",
   "execution_count": 4,
   "id": "7ba525e5",
   "metadata": {},
   "outputs": [],
   "source": [
    "import pandas as pd\n",
    "import numpy as np"
   ]
  },
  {
   "cell_type": "markdown",
   "id": "982f7789",
   "metadata": {},
   "source": [
    "Our example:"
   ]
  },
  {
   "cell_type": "code",
   "execution_count": 15,
   "id": "fdc6639c",
   "metadata": {},
   "outputs": [
    {
     "data": {
      "text/html": [
       "<div>\n",
       "<style scoped>\n",
       "    .dataframe tbody tr th:only-of-type {\n",
       "        vertical-align: middle;\n",
       "    }\n",
       "\n",
       "    .dataframe tbody tr th {\n",
       "        vertical-align: top;\n",
       "    }\n",
       "\n",
       "    .dataframe thead th {\n",
       "        text-align: right;\n",
       "    }\n",
       "</style>\n",
       "<table border=\"1\" class=\"dataframe\">\n",
       "  <thead>\n",
       "    <tr style=\"text-align: right;\">\n",
       "      <th></th>\n",
       "      <th>Dataset</th>\n",
       "      <th>Frequency</th>\n",
       "    </tr>\n",
       "  </thead>\n",
       "  <tbody>\n",
       "    <tr>\n",
       "      <th>0</th>\n",
       "      <td>1</td>\n",
       "      <td>1</td>\n",
       "    </tr>\n",
       "    <tr>\n",
       "      <th>1</th>\n",
       "      <td>9</td>\n",
       "      <td>1</td>\n",
       "    </tr>\n",
       "    <tr>\n",
       "      <th>2</th>\n",
       "      <td>22</td>\n",
       "      <td>1</td>\n",
       "    </tr>\n",
       "    <tr>\n",
       "      <th>3</th>\n",
       "      <td>34</td>\n",
       "      <td>1</td>\n",
       "    </tr>\n",
       "    <tr>\n",
       "      <th>4</th>\n",
       "      <td>29</td>\n",
       "      <td>1</td>\n",
       "    </tr>\n",
       "    <tr>\n",
       "      <th>5</th>\n",
       "      <td>41</td>\n",
       "      <td>1</td>\n",
       "    </tr>\n",
       "    <tr>\n",
       "      <th>6</th>\n",
       "      <td>44</td>\n",
       "      <td>1</td>\n",
       "    </tr>\n",
       "    <tr>\n",
       "      <th>7</th>\n",
       "      <td>48</td>\n",
       "      <td>1</td>\n",
       "    </tr>\n",
       "    <tr>\n",
       "      <th>8</th>\n",
       "      <td>57</td>\n",
       "      <td>1</td>\n",
       "    </tr>\n",
       "    <tr>\n",
       "      <th>9</th>\n",
       "      <td>66</td>\n",
       "      <td>1</td>\n",
       "    </tr>\n",
       "    <tr>\n",
       "      <th>10</th>\n",
       "      <td>70</td>\n",
       "      <td>1</td>\n",
       "    </tr>\n",
       "    <tr>\n",
       "      <th>11</th>\n",
       "      <td>73</td>\n",
       "      <td>1</td>\n",
       "    </tr>\n",
       "    <tr>\n",
       "      <th>12</th>\n",
       "      <td>75</td>\n",
       "      <td>1</td>\n",
       "    </tr>\n",
       "    <tr>\n",
       "      <th>13</th>\n",
       "      <td>76</td>\n",
       "      <td>1</td>\n",
       "    </tr>\n",
       "    <tr>\n",
       "      <th>14</th>\n",
       "      <td>79</td>\n",
       "      <td>1</td>\n",
       "    </tr>\n",
       "    <tr>\n",
       "      <th>15</th>\n",
       "      <td>82</td>\n",
       "      <td>1</td>\n",
       "    </tr>\n",
       "    <tr>\n",
       "      <th>16</th>\n",
       "      <td>87</td>\n",
       "      <td>1</td>\n",
       "    </tr>\n",
       "    <tr>\n",
       "      <th>17</th>\n",
       "      <td>89</td>\n",
       "      <td>1</td>\n",
       "    </tr>\n",
       "    <tr>\n",
       "      <th>18</th>\n",
       "      <td>95</td>\n",
       "      <td>1</td>\n",
       "    </tr>\n",
       "    <tr>\n",
       "      <th>19</th>\n",
       "      <td>100</td>\n",
       "      <td>1</td>\n",
       "    </tr>\n",
       "  </tbody>\n",
       "</table>\n",
       "</div>"
      ],
      "text/plain": [
       "    Dataset  Frequency\n",
       "0         1          1\n",
       "1         9          1\n",
       "2        22          1\n",
       "3        34          1\n",
       "4        29          1\n",
       "5        41          1\n",
       "6        44          1\n",
       "7        48          1\n",
       "8        57          1\n",
       "9        66          1\n",
       "10       70          1\n",
       "11       73          1\n",
       "12       75          1\n",
       "13       76          1\n",
       "14       79          1\n",
       "15       82          1\n",
       "16       87          1\n",
       "17       89          1\n",
       "18       95          1\n",
       "19      100          1"
      ]
     },
     "execution_count": 15,
     "metadata": {},
     "output_type": "execute_result"
    }
   ],
   "source": [
    "freq_table = pd.DataFrame({\n",
    "    \"Dataset\" : [1, 9, 22, 34, 29, 41, 44, 48, 57, 66, 70, 73, 75, 76, 79, 82, 87, 89, 95, 100],\n",
    "    \"Frequency\" : [1]*20\n",
    "})\n",
    "\n",
    "freq_table"
   ]
  },
  {
   "cell_type": "markdown",
   "id": "407250e5",
   "metadata": {},
   "source": [
    "For our example we will divide the data into 5 intervals of equal length.\n",
    "\n",
    "$$\n",
    "\\text{Interval length} = \\frac{\\max(x_i) - \\min(x_i)}{k}\n",
    "$$\n",
    "\n",
    "where $k$ is the number of desired intervals.\n"
   ]
  },
  {
   "cell_type": "code",
   "execution_count": 34,
   "id": "6db89ff4",
   "metadata": {},
   "outputs": [
    {
     "name": "stdout",
     "output_type": "stream",
     "text": [
      "Interval length: 19.8\n"
     ]
    }
   ],
   "source": [
    "k =5\n",
    "step = (np.max(freq_table[\"Dataset\"]) - np.min(freq_table[\"Dataset\"]))/k\n",
    "print(f\"Interval length: {step}\")"
   ]
  },
  {
   "cell_type": "markdown",
   "id": "551b8033",
   "metadata": {},
   "source": [
    "Sometimes we want to round that number UP to reach a neater representation."
   ]
  },
  {
   "cell_type": "code",
   "execution_count": 36,
   "id": "2f28c1bc",
   "metadata": {},
   "outputs": [
    {
     "name": "stdout",
     "output_type": "stream",
     "text": [
      "Interval length: 20\n"
     ]
    }
   ],
   "source": [
    "step = int(np.ceil(step))\n",
    "print(f\"Interval length: {step}\")"
   ]
  },
  {
   "cell_type": "markdown",
   "id": "a5e3d2f3",
   "metadata": {},
   "source": [
    "A number is included in an interval if that number:\n",
    "1) Is GREATER than the lower bound\n",
    "2) Is LOWER or EQUAL to the upper bound."
   ]
  },
  {
   "cell_type": "code",
   "execution_count": 39,
   "id": "0fffb1bf",
   "metadata": {},
   "outputs": [
    {
     "data": {
      "text/html": [
       "<div>\n",
       "<style scoped>\n",
       "    .dataframe tbody tr th:only-of-type {\n",
       "        vertical-align: middle;\n",
       "    }\n",
       "\n",
       "    .dataframe tbody tr th {\n",
       "        vertical-align: top;\n",
       "    }\n",
       "\n",
       "    .dataframe thead th {\n",
       "        text-align: right;\n",
       "    }\n",
       "</style>\n",
       "<table border=\"1\" class=\"dataframe\">\n",
       "  <thead>\n",
       "    <tr style=\"text-align: right;\">\n",
       "      <th></th>\n",
       "      <th>Interval start</th>\n",
       "      <th>Interval end</th>\n",
       "      <th>Frequency</th>\n",
       "    </tr>\n",
       "  </thead>\n",
       "  <tbody>\n",
       "    <tr>\n",
       "      <th>0</th>\n",
       "      <td>1</td>\n",
       "      <td>21</td>\n",
       "      <td>2</td>\n",
       "    </tr>\n",
       "    <tr>\n",
       "      <th>1</th>\n",
       "      <td>21</td>\n",
       "      <td>41</td>\n",
       "      <td>4</td>\n",
       "    </tr>\n",
       "    <tr>\n",
       "      <th>2</th>\n",
       "      <td>41</td>\n",
       "      <td>61</td>\n",
       "      <td>3</td>\n",
       "    </tr>\n",
       "    <tr>\n",
       "      <th>3</th>\n",
       "      <td>61</td>\n",
       "      <td>81</td>\n",
       "      <td>6</td>\n",
       "    </tr>\n",
       "    <tr>\n",
       "      <th>4</th>\n",
       "      <td>81</td>\n",
       "      <td>101</td>\n",
       "      <td>5</td>\n",
       "    </tr>\n",
       "  </tbody>\n",
       "</table>\n",
       "</div>"
      ],
      "text/plain": [
       "   Interval start  Interval end  Frequency\n",
       "0               1            21          2\n",
       "1              21            41          4\n",
       "2              41            61          3\n",
       "3              61            81          6\n",
       "4              81           101          5"
      ]
     },
     "execution_count": 39,
     "metadata": {},
     "output_type": "execute_result"
    }
   ],
   "source": [
    "min_val = freq_table[\"Dataset\"].min()\n",
    "max_val = freq_table[\"Dataset\"].max()\n",
    "\n",
    "interval_ends = [min_val + step * (i+1) for i in range(5)]\n",
    "interval_starts = [min_val] + interval_ends[:-1]\n",
    "\n",
    "intervals = []\n",
    "frequencies = []\n",
    "\n",
    "for start, end in zip(interval_starts, interval_ends):\n",
    "    if start == min_val:\n",
    "        mask = freq_table[\"Dataset\"] <= end\n",
    "    else:\n",
    "        mask = (freq_table[\"Dataset\"] > start) & (freq_table[\"Dataset\"] <= end)\n",
    "    freq = freq_table.loc[mask, \"Frequency\"].sum()\n",
    "    intervals.append((start, end))\n",
    "    frequencies.append(freq)\n",
    "\n",
    "interval_table = pd.DataFrame(intervals, columns=[\"Interval start\", \"Interval end\"])\n",
    "interval_table[\"Frequency\"] = frequencies\n",
    "\n",
    "interval_table"
   ]
  },
  {
   "cell_type": "markdown",
   "id": "f4570d31",
   "metadata": {},
   "source": [
    "$$\n",
    "\\text{Relative Frequency} = \\frac{Frequency}{Total frequency}\n",
    "$$"
   ]
  },
  {
   "cell_type": "code",
   "execution_count": 38,
   "id": "fdd4ddee",
   "metadata": {},
   "outputs": [
    {
     "data": {
      "text/html": [
       "<div>\n",
       "<style scoped>\n",
       "    .dataframe tbody tr th:only-of-type {\n",
       "        vertical-align: middle;\n",
       "    }\n",
       "\n",
       "    .dataframe tbody tr th {\n",
       "        vertical-align: top;\n",
       "    }\n",
       "\n",
       "    .dataframe thead th {\n",
       "        text-align: right;\n",
       "    }\n",
       "</style>\n",
       "<table border=\"1\" class=\"dataframe\">\n",
       "  <thead>\n",
       "    <tr style=\"text-align: right;\">\n",
       "      <th></th>\n",
       "      <th>Interval start</th>\n",
       "      <th>Interval end</th>\n",
       "      <th>Frequency</th>\n",
       "      <th>Relative frequency</th>\n",
       "    </tr>\n",
       "  </thead>\n",
       "  <tbody>\n",
       "    <tr>\n",
       "      <th>0</th>\n",
       "      <td>1</td>\n",
       "      <td>21</td>\n",
       "      <td>2</td>\n",
       "      <td>10.0</td>\n",
       "    </tr>\n",
       "    <tr>\n",
       "      <th>1</th>\n",
       "      <td>21</td>\n",
       "      <td>41</td>\n",
       "      <td>4</td>\n",
       "      <td>20.0</td>\n",
       "    </tr>\n",
       "    <tr>\n",
       "      <th>2</th>\n",
       "      <td>41</td>\n",
       "      <td>61</td>\n",
       "      <td>3</td>\n",
       "      <td>15.0</td>\n",
       "    </tr>\n",
       "    <tr>\n",
       "      <th>3</th>\n",
       "      <td>61</td>\n",
       "      <td>81</td>\n",
       "      <td>6</td>\n",
       "      <td>30.0</td>\n",
       "    </tr>\n",
       "    <tr>\n",
       "      <th>4</th>\n",
       "      <td>81</td>\n",
       "      <td>101</td>\n",
       "      <td>5</td>\n",
       "      <td>25.0</td>\n",
       "    </tr>\n",
       "  </tbody>\n",
       "</table>\n",
       "</div>"
      ],
      "text/plain": [
       "   Interval start  Interval end  Frequency  Relative frequency\n",
       "0               1            21          2                10.0\n",
       "1              21            41          4                20.0\n",
       "2              41            61          3                15.0\n",
       "3              61            81          6                30.0\n",
       "4              81           101          5                25.0"
      ]
     },
     "execution_count": 38,
     "metadata": {},
     "output_type": "execute_result"
    }
   ],
   "source": [
    "interval_table[\"Relative frequency\"] = round(interval_table[\"Frequency\"]/interval_table[\"Frequency\"].sum()*100, 0)\n",
    "interval_table"
   ]
  }
 ],
 "metadata": {
  "kernelspec": {
   "display_name": "Python 3",
   "language": "python",
   "name": "python3"
  },
  "language_info": {
   "codemirror_mode": {
    "name": "ipython",
    "version": 3
   },
   "file_extension": ".py",
   "mimetype": "text/x-python",
   "name": "python",
   "nbconvert_exporter": "python",
   "pygments_lexer": "ipython3",
   "version": "3.12.4"
  }
 },
 "nbformat": 4,
 "nbformat_minor": 5
}
